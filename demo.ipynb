{
 "cells": [
  {
   "cell_type": "markdown",
   "id": "a7a1751a",
   "metadata": {},
   "source": [
    "### 53rd Class--31.05.23"
   ]
  },
  {
   "cell_type": "code",
   "execution_count": 1,
   "id": "1c238a7e",
   "metadata": {},
   "outputs": [
    {
     "name": "stdout",
     "output_type": "stream",
     "text": [
      "Hellow World\n"
     ]
    }
   ],
   "source": [
    "print('Hellow World')"
   ]
  },
  {
   "cell_type": "code",
   "execution_count": 2,
   "id": "7229f6f0",
   "metadata": {},
   "outputs": [],
   "source": [
    "def even_or_odd(num):\n",
    "    if num % 2 == 0:\n",
    "        print('even')\n",
    "    else:\n",
    "        print('odd')"
   ]
  },
  {
   "cell_type": "code",
   "execution_count": 3,
   "id": "2c5a3d9c",
   "metadata": {},
   "outputs": [
    {
     "name": "stdout",
     "output_type": "stream",
     "text": [
      "even\n"
     ]
    }
   ],
   "source": [
    "even_or_odd(24)"
   ]
  },
  {
   "cell_type": "code",
   "execution_count": null,
   "id": "f53358ee",
   "metadata": {},
   "outputs": [],
   "source": []
  },
  {
   "cell_type": "code",
   "execution_count": 16,
   "id": "ffa3d5ab",
   "metadata": {},
   "outputs": [],
   "source": [
    "def prime(num):\n",
    "    count=0\n",
    "    for i in range(1,num):\n",
    "        if num % i==0:\n",
    "            count=count+1\n",
    "    if count==1:\n",
    "            print('prime')\n",
    "    else:\n",
    "            print(\"not prime\")"
   ]
  },
  {
   "cell_type": "code",
   "execution_count": 17,
   "id": "d4abd6bc",
   "metadata": {},
   "outputs": [
    {
     "name": "stdout",
     "output_type": "stream",
     "text": [
      "prime\n"
     ]
    }
   ],
   "source": [
    "prime(23)"
   ]
  },
  {
   "cell_type": "code",
   "execution_count": null,
   "id": "75769e9a",
   "metadata": {},
   "outputs": [],
   "source": []
  }
 ],
 "metadata": {
  "kernelspec": {
   "display_name": "Python 3 (ipykernel)",
   "language": "python",
   "name": "python3"
  },
  "language_info": {
   "codemirror_mode": {
    "name": "ipython",
    "version": 3
   },
   "file_extension": ".py",
   "mimetype": "text/x-python",
   "name": "python",
   "nbconvert_exporter": "python",
   "pygments_lexer": "ipython3",
   "version": "3.9.13"
  }
 },
 "nbformat": 4,
 "nbformat_minor": 5
}
